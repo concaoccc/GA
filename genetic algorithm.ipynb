{
 "cells": [
  {
   "cell_type": "markdown",
   "metadata": {},
   "source": [
    "### 简单的遗传算法教程"
   ]
  },
  {
   "cell_type": "markdown",
   "metadata": {},
   "source": [
    "*本教程参考知乎网友 [牛阿](https://www.zhihu.com/question/23293449/answer/120530793)的回答以及[Medium上的教程](https://towardsdatascience.com/introduction-to-genetic-algorithms-including-example-code-e396e98d8bf3)，并使用python进行了实现*"
   ]
  },
  {
   "cell_type": "markdown",
   "metadata": {},
   "source": [
    "### 1 遗传算法基本原理"
   ]
  },
  {
   "cell_type": "markdown",
   "metadata": {},
   "source": [
    "遗传算法是从达尔文的自然进化理论而得到的一种启发式算法。在自然选择的过程中，父母的特征将被子女继承，如果父母有更好的适应环境的能力，那么他们的子女也会更好适应环境并且生存下来。经过一轮轮的迭代，最后最能适应的个体将会被找到。\n",
    "\n",
    "遗传算法可以用在搜索问题中，在一系列的答案中，遗传算法可以帮助我们找到他们中的最优解。正常的遗传算法包括五步：\n",
    "- 种群初始化\n",
    "- 适应度函数\n",
    "- 选择\n",
    "- 交叉\n",
    "- 变异"
   ]
  },
  {
   "cell_type": "markdown",
   "metadata": {},
   "source": [
    "### 2 种群初始化\n"
   ]
  },
  {
   "cell_type": "markdown",
   "metadata": {},
   "source": [
    "该过程是从一组称为种群的个体开始的，每一个个体都是问题的一个解。然后每个个体是由一系列的参数组成，这些参数被称作基因，基因最后组成了染色体。\n",
    "基因通常使用0或者1字符组成，一组0或1字符串组成了一个染色体，每个染色体是问题的一个解，也代表了一个个体。若干个个体最后组成了种群。\n",
    "\n",
    "开始阶段，寻找一系列的可行解，并将其编码成染色体的方式，这就是种群的初始化。"
   ]
  },
  {
   "cell_type": "markdown",
   "metadata": {},
   "source": [
    "### 3 适应度函数"
   ]
  },
  {
   "cell_type": "markdown",
   "metadata": {},
   "source": [
    "适应度函数用来决定每一个个体对环境的适应程度，对于每个个体，适应度函数计算出对应的适应度分数。在选择环节，每个个体的被选中的概率是与适应度函数得分相关的。"
   ]
  },
  {
   "cell_type": "markdown",
   "metadata": {},
   "source": [
    "### 4 选择"
   ]
  },
  {
   "cell_type": "markdown",
   "metadata": {},
   "source": [
    "选择环节是选择出适应度最高的个体，并将其基因传给下一代。两个配对的个体被基于他们的适应度分数进行选择，适应度高的个体将会有更大的可能性被选中进行再次生育。"
   ]
  },
  {
   "cell_type": "markdown",
   "metadata": {},
   "source": [
    "### 5 交叉"
   ]
  },
  {
   "cell_type": "markdown",
   "metadata": {},
   "source": [
    "交叉是遗传算法中最重要的环节之一，对于每一对被选中的父母，交叉点是从基因内随机选择的。父母染色体在随机的交叉点处进行交换，产生子代，子代随后也被加入到种群中。"
   ]
  },
  {
   "cell_type": "markdown",
   "metadata": {},
   "source": [
    "### 6 变异"
   ]
  },
  {
   "cell_type": "markdown",
   "metadata": {},
   "source": [
    "子代经过上述过程已经完全成型，但是子代的某些基因还会以很小的随机概率发生变异，变现在代码中就是比特串的某些位置会发生翻转。变异的目的是为了保持种群内的多样性并防止早熟收敛。"
   ]
  },
  {
   "cell_type": "markdown",
   "metadata": {},
   "source": [
    "### 7 终止条件"
   ]
  },
  {
   "cell_type": "markdown",
   "metadata": {},
   "source": [
    "算法的收敛条件是种群已经收敛，及不会产生与前一代有着显著不同的后代。"
   ]
  },
  {
   "cell_type": "markdown",
   "metadata": {},
   "source": [
    "### 8 伪代码"
   ]
  },
  {
   "cell_type": "markdown",
   "metadata": {},
   "source": [
    "START\n",
    "\n",
    "Generate the initial population\n",
    "\n",
    "Compute fitness\n",
    "\n",
    "REPEAT\n",
    "\n",
    "    Selection\n",
    "\n",
    "    Crossover\n",
    "    \n",
    "    Mutation\n",
    "    \n",
    "    Compute fitness\n",
    "\n",
    "UNTIL population has converged\n",
    "\n",
    "STOP"
   ]
  },
  {
   "cell_type": "markdown",
   "metadata": {},
   "source": [
    "### 9 代码实现"
   ]
  },
  {
   "cell_type": "markdown",
   "metadata": {},
   "source": [
    "代码GA.py中实现用遗传算法求解$f(x) = x + 10sin(5x)+7cos(4x)$的遗传算法，其中交叉选用单区间交换，变异选择单点变异。"
   ]
  },
  {
   "cell_type": "markdown",
   "metadata": {},
   "source": [
    "### 10 参数观察"
   ]
  },
  {
   "cell_type": "code",
   "execution_count": 13,
   "metadata": {
    "collapsed": false
   },
   "outputs": [
    {
     "name": "stdout",
     "output_type": "stream",
     "text": [
      "The autoreload extension is already loaded. To reload it, use:\n",
      "  %reload_ext autoreload\n"
     ]
    }
   ],
   "source": [
    "import numpy as np\n",
    "import matplotlib.pyplot as plt\n",
    "\n",
    "from __future__ import print_function\n",
    "\n",
    "# This is a bit of magic to make matplotlib figures appear inline in the\n",
    "# notebook rather than in a new window.\n",
    "%matplotlib inline\n",
    "plt.rcParams['figure.figsize'] = (10.0, 8.0) # set default size of plots\n",
    "plt.rcParams['image.interpolation'] = 'nearest'\n",
    "plt.rcParams['image.cmap'] = 'gray'\n",
    "\n",
    "# Some more magic so that the notebook will reload external python modules;\n",
    "# see http://stackoverflow.com/questions/1907993/autoreload-of-modules-in-ipython\n",
    "%load_ext autoreload\n",
    "%autoreload 2"
   ]
  },
  {
   "cell_type": "code",
   "execution_count": 16,
   "metadata": {
    "collapsed": false
   },
   "outputs": [
    {
     "name": "stdout",
     "output_type": "stream",
     "text": [
      "最大的值： 24.85535852268893\n",
      "最大值取值处的x: 7.856589176858344\n"
     ]
    },
    {
     "data": {
      "text/plain": [
       "[<matplotlib.lines.Line2D at 0x26f74ab5828>]"
      ]
     },
     "execution_count": 16,
     "metadata": {},
     "output_type": "execute_result"
    },
    {
     "data": {
      "image/png": "[encoded data removed]",
      "text/plain": [
       "<matplotlib.figure.Figure at 0x26f7416c550>"
      ]
     },
     "metadata": {},
     "output_type": "display_data"
    }
   ],
   "source": [
    "from algs.GA import GA\n",
    "# 三个参数分别为种群的大小，交叉率和变异率\n",
    "ga = GA(n = 30, cross_rate = 0.85, mutation_rate = 0.2)\n",
    "num = []\n",
    "value = []\n",
    "i = 0\n",
    "#观察遗传100代之后的最大值的变化情况\n",
    "while i < 100:\n",
    "    ga.generate_new()\n",
    "    num.append(i)\n",
    "    value.append(ga.max_fitness)\n",
    "    i = i + 1\n",
    "print(\"最大的值：\", ga.max_fitness)\n",
    "print(\"最大值取值处的x:\", ga.max_x)\n",
    "plt.plot(num,value)"
   ]
  },
  {
   "cell_type": "code",
   "execution_count": null,
   "metadata": {
    "collapsed": true
   },
   "outputs": [],
   "source": []
  },
  {
   "cell_type": "code",
   "execution_count": null,
   "metadata": {
    "collapsed": true
   },
   "outputs": [],
   "source": []
  }
 ],
 "metadata": {
  "kernelspec": {
   "display_name": "Python 3",
   "language": "python",
   "name": "python3"
  },
  "language_info": {
   "codemirror_mode": {
    "name": "ipython",
    "version": 3
   },
   "file_extension": ".py",
   "mimetype": "text/x-python",
   "name": "python",
   "nbconvert_exporter": "python",
   "pygments_lexer": "ipython3",
   "version": "3.6.0"
  }
 },
 "nbformat": 4,
 "nbformat_minor": 2
}
