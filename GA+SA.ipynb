{
 "cells": [
  {
   "cell_type": "markdown",
   "metadata": {},
   "source": [
    "本文档是介绍模拟退火算法以及如何将其余遗传算法进行结合，参考书目为邢文训老师的[现代优化算法](https://baike.baidu.com/item/%E7%8E%B0%E4%BB%A3%E4%BC%98%E5%8C%96%E8%AE%A1%E7%AE%97%E6%96%B9%E6%B3%95/3799563?fr=aladdin)。"
   ]
  },
  {
   "cell_type": "markdown",
   "metadata": {},
   "source": [
    "### 1 模拟退火算法基本原理"
   ]
  },
  {
   "cell_type": "markdown",
   "metadata": {},
   "source": [
    "退火是一个物理过程，金属物体在加热至一定温度后，它的所有分子在状态空间D中自由运动。随着温度的下降,这些分子逐渐停留在不同的状态。在温度低的时候，分子重新以一定的结构排列。根据统计力学的研究表明，在温度T，分子停留在状态r满足玻尔兹曼(Boltzmann)概率分布：\n",
    "\n",
    "$P{(\\overline{E} = E(r)) } = \\frac{1}{Z(T)}exp(-\\frac{E(r)}{k_{B}T})$\n",
    "\n",
    "其中，$E(r)$表示状态$r$的能量，$k_{B}>0$为玻尔兹曼常量，$\\overline{E}$表示分子能量的一个随机变量。\n",
    "\n",
    "$Z(T)=\\sum_{s\\in D}exp(-\\frac{E(s)}{k_{B}T})$\n",
    "\n",
    "从上述表达式中，分子停留在能量状态小的状态的概率比停留在能量状态大的概率要大"
   ]
  },
  {
   "cell_type": "markdown",
   "metadata": {},
   "source": [
    "### 2 模拟退火算法和组合优化问题的对比"
   ]
  },
  {
   "cell_type": "markdown",
   "metadata": {},
   "source": [
    "组合优化问题 | 金属物体 \n",
    "- | :-: \n",
    "解 | 状态 \n",
    "最优解 | 能量最低状态 \n",
    "费用函数 | 能量"
   ]
  },
  {
   "cell_type": "markdown",
   "metadata": {},
   "source": [
    "### 3 模拟退火算法流程图"
   ]
  },
  {
   "cell_type": "markdown",
   "metadata": {},
   "source": [
    "STEP 1  任选一个初始解$i_{0}$; 初始条件为:$i = i_{0},k=0, t_{0} = t_{max}$\n",
    "\n",
    "STEP 2  若该温度达到内循环的停止条件，则到STEP 3; 否则，从邻域$N(i)$中随机选一$j$，计算$\\delta (f_{ij}) = f(j) - f(i)$,则$i=j$;否则若$exp(-(\\delta f_{ij})/t_{k})>random(0)$,则$i=j$，重复STEP 2\n",
    "\n",
    "STEP 3  $t_{k+1} = d(t_{k}); k = k+1;$,若满足条件，终止计算；否则，回到STEP 2."
   ]
  },
  {
   "cell_type": "markdown",
   "metadata": {},
   "source": [
    "### 4 遗传模拟退火算法"
   ]
  },
  {
   "cell_type": "markdown",
   "metadata": {},
   "source": [
    "STEP 1: 给定群体规模 MAXPOP，k = 0; 初始化温度$t_{k} = t_{0}$,群体POP(k)\n",
    "\n",
    "STEP 2: 若满足停止规则，则停止计算；否则，对群体POP(k)中每一个染色体$i\\in POP(K)$的领域中随机选状$j\\in N(i)$,按模拟退火中的接受概率:$ A_{ij}(t_{k}) = min( {1,exp(-\\frac {f(j)-f(i)}{t_{k}})})$接受或者拒绝，其中$f(i)$为$i$的目标值；这一阶段共需MAXPOP次迭代，选出新的种群NewPOP1(k+1)\n",
    "\n",
    "STEP 3: 在NewPOP1(k+1)中计算适应函数 $f_{i}(t_{k}) = exp(-\\frac {f(i) - f_{min}}{t_{k}})$，其中，$f_{min}$是NewPOP1(k+1)中的最小值。由适应度函数决定的概率分布从NewPOP1(k+1)中随机选MAXPOP个染色体形成种群NewPOP2(k+1)\n",
    "\n",
    "STEP 4: 按遗传算法的常规方法进行交配得到CrossPOP(k+1);再变异得到MutPOP(k+1)\n",
    "\n",
    "STEP 5: $t_{k+1} = d(t_{k}), k = k+1, POP(k) = MutPOP(k)$，返回STEP2"
   ]
  },
  {
   "cell_type": "code",
   "execution_count": null,
   "metadata": {
    "collapsed": true
   },
   "outputs": [],
   "source": []
  }
 ],
 "metadata": {
  "kernelspec": {
   "display_name": "Python 3",
   "language": "python",
   "name": "python3"
  },
  "language_info": {
   "codemirror_mode": {
    "name": "ipython",
    "version": 3
   },
   "file_extension": ".py",
   "mimetype": "text/x-python",
   "name": "python",
   "nbconvert_exporter": "python",
   "pygments_lexer": "ipython3",
   "version": "3.6.0"
  }
 },
 "nbformat": 4,
 "nbformat_minor": 2
}
